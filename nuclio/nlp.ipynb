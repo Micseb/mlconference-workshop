{
 "cells": [
  {
   "cell_type": "markdown",
   "metadata": {},
   "source": [
    "# Nuclio - Function Template"
   ]
  },
  {
   "cell_type": "code",
   "execution_count": 1,
   "metadata": {},
   "outputs": [],
   "source": [
    "# nuclio: ignore\n",
    "# if the nuclio-jupyter package is not installed run !python -m pip install nuclio-jupyter\n",
    "import nuclio "
   ]
  },
  {
   "cell_type": "markdown",
   "metadata": {},
   "source": [
    "## Add function environment commands"
   ]
  },
  {
   "cell_type": "markdown",
   "metadata": {},
   "source": [
    "### Setups (pip installs & cmds)"
   ]
  },
  {
   "cell_type": "code",
   "execution_count": 2,
   "metadata": {},
   "outputs": [
    {
     "output_type": "stream",
     "name": "stdout",
     "text": [
      "Requirement already satisfied: textblob in /Users/orz/miniconda3/lib/python3.7/site-packages (0.15.3)\n",
      "Requirement already satisfied: nltk>=3.1 in /Users/orz/miniconda3/lib/python3.7/site-packages (from textblob) (3.5)\n",
      "Requirement already satisfied: click in /Users/orz/miniconda3/lib/python3.7/site-packages (from nltk>=3.1->textblob) (7.1.2)\n",
      "Requirement already satisfied: regex in /Users/orz/miniconda3/lib/python3.7/site-packages (from nltk>=3.1->textblob) (2020.7.14)\n",
      "Requirement already satisfied: tqdm in /Users/orz/miniconda3/lib/python3.7/site-packages (from nltk>=3.1->textblob) (4.42.1)\n",
      "Requirement already satisfied: joblib in /Users/orz/miniconda3/lib/python3.7/site-packages (from nltk>=3.1->textblob) (0.17.0)\n"
     ]
    }
   ],
   "source": [
    "%nuclio cmd pip install textblob"
   ]
  },
  {
   "cell_type": "markdown",
   "metadata": {},
   "source": [
    "### Environment variables"
   ]
  },
  {
   "cell_type": "code",
   "execution_count": 3,
   "metadata": {},
   "outputs": [
    {
     "output_type": "stream",
     "name": "stdout",
     "text": [
      "%nuclio: setting 'TO_LANG' environment variable\n"
     ]
    }
   ],
   "source": [
    "%nuclio env TO_LANG=fr"
   ]
  },
  {
   "cell_type": "markdown",
   "metadata": {},
   "source": [
    "## Function code"
   ]
  },
  {
   "cell_type": "markdown",
   "metadata": {},
   "source": [
    "### Imports"
   ]
  },
  {
   "cell_type": "code",
   "execution_count": 4,
   "metadata": {},
   "outputs": [],
   "source": [
    "from textblob import TextBlob\n",
    "import os"
   ]
  },
  {
   "cell_type": "markdown",
   "metadata": {},
   "source": [
    "### Helper functions"
   ]
  },
  {
   "cell_type": "code",
   "execution_count": 5,
   "metadata": {},
   "outputs": [],
   "source": [
    "def nlp(text, lang='fr'):\n",
    "    # process and correct the text\n",
    "    blob = TextBlob(str(text))\n",
    "    corrected = blob.correct()\n",
    "\n",
    "    # debug print the text before and after correction\n",
    "    print(f\"Corrected text: {corrected}\\noriginal: {blob}\")\n",
    "\n",
    "    # calculate sentiments\n",
    "    print(f\"Sentiment  polarity={corrected.sentiment.polarity}  subjectivity={corrected.sentiment.subjectivity}\\n\")\n",
    "\n",
    "    # read target language from environment and return translated text\n",
    "    return str(corrected.translate(to=lang))"
   ]
  },
  {
   "cell_type": "markdown",
   "metadata": {},
   "source": [
    "### Main function code (handler & init_context)"
   ]
  },
  {
   "cell_type": "code",
   "execution_count": 6,
   "metadata": {},
   "outputs": [],
   "source": [
    "def handler(context, event):\n",
    "    return nlp(event.body)"
   ]
  },
  {
   "cell_type": "code",
   "execution_count": 3,
   "metadata": {},
   "outputs": [],
   "source": [
    "# nuclio: end-code"
   ]
  },
  {
   "cell_type": "markdown",
   "metadata": {},
   "source": [
    "## Tests"
   ]
  },
  {
   "cell_type": "markdown",
   "metadata": {},
   "source": [
    "### Local"
   ]
  },
  {
   "cell_type": "code",
   "execution_count": 9,
   "metadata": {},
   "outputs": [
    {
     "output_type": "stream",
     "name": "stdout",
     "text": [
      "Corrected text: good morning\noriginal: good morningg\nSentiment  polarity=0.7  subjectivity=0.6000000000000001\n\n"
     ]
    },
    {
     "output_type": "execute_result",
     "data": {
      "text/plain": [
       "'Buenos días'"
      ]
     },
     "metadata": {},
     "execution_count": 9
    }
   ],
   "source": [
    "nlp('good morningg', 'es')"
   ]
  },
  {
   "cell_type": "code",
   "execution_count": 7,
   "metadata": {},
   "outputs": [
    {
     "output_type": "stream",
     "name": "stdout",
     "text": [
      "Corrected text: b'good morning'\noriginal: b'good morninng'\nSentiment  polarity=0.7  subjectivity=0.6000000000000001\n\n"
     ]
    },
    {
     "output_type": "execute_result",
     "data": {
      "text/plain": [
       "'bonjour'"
      ]
     },
     "metadata": {},
     "execution_count": 7
    }
   ],
   "source": [
    "# nuclio: ignore\n",
    "event = nuclio.Event(body=b'good morninng')\n",
    "handler(context, event)"
   ]
  },
  {
   "cell_type": "markdown",
   "metadata": {},
   "source": [
    "### Deploy to cluster\n",
    "#### Turn the code into a realtime micro-service"
   ]
  },
  {
   "cell_type": "code",
   "execution_count": null,
   "metadata": {},
   "outputs": [],
   "source": [
    "import mlrun\n",
    "fn = mlrun.code_to_function('my_nlp', kind=\"nuclio\", description=\"nlp example\")"
   ]
  },
  {
   "cell_type": "code",
   "execution_count": null,
   "metadata": {},
   "outputs": [],
   "source": [
    "fn.deploy(dashboard='http://nuclio:8070')"
   ]
  },
  {
   "cell_type": "markdown",
   "metadata": {},
   "source": [
    "### Test on cluster"
   ]
  },
  {
   "cell_type": "code",
   "execution_count": null,
   "metadata": {},
   "outputs": [],
   "source": [
    "fn.invoke('', body='good evening')"
   ]
  }
 ],
 "metadata": {
  "kernelspec": {
   "display_name": "Python 3",
   "language": "python",
   "name": "python3"
  },
  "language_info": {
   "codemirror_mode": {
    "name": "ipython",
    "version": 3
   },
   "file_extension": ".py",
   "mimetype": "text/x-python",
   "name": "python",
   "nbconvert_exporter": "python",
   "pygments_lexer": "ipython3",
   "version": "3.7.6-final"
  }
 },
 "nbformat": 4,
 "nbformat_minor": 4
}